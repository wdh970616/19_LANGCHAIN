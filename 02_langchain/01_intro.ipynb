{
 "cells": [
  {
   "cell_type": "markdown",
   "metadata": {},
   "source": [
    "### LangChain이란?\n",
    "* 대규모의 언어모델로 구동되는 어플리케이션을 개발하기 위한 프레임워크"
   ]
  },
  {
   "cell_type": "code",
   "execution_count": 3,
   "metadata": {},
   "outputs": [
    {
     "data": {
      "text/plain": [
       "True"
      ]
     },
     "execution_count": 3,
     "metadata": {},
     "output_type": "execute_result"
    }
   ],
   "source": [
    "from dotenv import load_dotenv\n",
    "\n",
    "load_dotenv(dotenv_path=\"../.env\")"
   ]
  },
  {
   "cell_type": "markdown",
   "metadata": {},
   "source": [
    "### ChatOpenAI\n",
    "* OpenAI사에서 제공해주는 LLM API를 사용하게 해주는 객체\n",
    "\n",
    "**model_name**\n",
    " : 사용할 LLM 모델의 이름\n",
    "\n",
    "**temperature**\n",
    " : 모델의 창의성을 조절하는 매개변수\n",
    "* 0.0 ~ 2.0 사이의 값을 가짐\n",
    "* 0.0에 가까울수록 예측이 정확해지고, 2.0에 가까울수록 창의적으로 변한다.\n",
    "\n",
    "**max_token**\n",
    " : 모델이 생성할 토큰의 최대 개수"
   ]
  },
  {
   "cell_type": "code",
   "execution_count": null,
   "metadata": {},
   "outputs": [],
   "source": [
    "from langchain_openai import ChatOpenAI\n",
    "\n",
    "model = ChatOpenAI(\n",
    "    model_name=\"gpt-4o-mini\",\n",
    "    temperature=0.1,\n",
    "    max_tokens=100\n",
    ")\n",
    "\n",
    "# 질문 생성\n",
    "question = \"랭체인에 대해 설명해주세요.\"\n",
    "\n",
    "print(f\"[답변] : {model.invoke(question)}\")\n",
    "\n",
    "# completion_tokens = 답변에 쓰인 토큰 수\n",
    "# prompt_tokens = 프롬프트 입력에 쓰인 토큰 수"
   ]
  }
 ],
 "metadata": {
  "kernelspec": {
   "display_name": "langchain_env",
   "language": "python",
   "name": "python3"
  },
  "language_info": {
   "codemirror_mode": {
    "name": "ipython",
    "version": 3
   },
   "file_extension": ".py",
   "mimetype": "text/x-python",
   "name": "python",
   "nbconvert_exporter": "python",
   "pygments_lexer": "ipython3",
   "version": "3.11.10"
  }
 },
 "nbformat": 4,
 "nbformat_minor": 2
}
