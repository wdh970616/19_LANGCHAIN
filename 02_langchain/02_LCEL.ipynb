{
 "cells": [
  {
   "cell_type": "markdown",
   "metadata": {},
   "source": [
    "# LCEL(Langchain Expression Language)\n",
    "* 사용자의 입력 => 프롬프트 템플릿 => LLM 모델 전달\n",
    "* 각 단계를 차례로 엮어서 하나의 파이프라인으로 만들어주는 것\n",
    "\n",
    "chain = prompt | model | output_parser"
   ]
  },
  {
   "cell_type": "markdown",
   "metadata": {},
   "source": [
    "### 프롬프트 템플릿\n",
    "* 사용자의 입력 변수를 받아서 완전한 프롬프트 문자열을 만드는데에 사용하는 템플릿"
   ]
  },
  {
   "cell_type": "code",
   "execution_count": 4,
   "metadata": {},
   "outputs": [],
   "source": [
    "from langchain_core.prompts import PromptTemplate\n",
    "\n",
    "template = \"{lecture}에 대해 설명해주세요.\"\n",
    "\n",
    "prompt_template = PromptTemplate(template=template, input_variables=[\"lecture\"])"
   ]
  },
  {
   "cell_type": "code",
   "execution_count": 5,
   "metadata": {},
   "outputs": [
    {
     "name": "stdout",
     "output_type": "stream",
     "text": [
      "스프링에 대해 설명해주세요.\n"
     ]
    }
   ],
   "source": [
    "lecture = input(\"궁금한 과목을 입력하세요.\")\n",
    "\n",
    "prompt = prompt_template.format(lecture=lecture)\n",
    "\n",
    "print(prompt)"
   ]
  },
  {
   "cell_type": "code",
   "execution_count": 6,
   "metadata": {},
   "outputs": [],
   "source": [
    "from langchain_openai import ChatOpenAI\n",
    "\n",
    "model = ChatOpenAI(\n",
    "    model=\"gpt-3.5-turbo\",\n",
    "    temperature=0.1\n",
    ")"
   ]
  },
  {
   "cell_type": "code",
   "execution_count": 7,
   "metadata": {},
   "outputs": [],
   "source": [
    "chain = prompt_template | model"
   ]
  },
  {
   "cell_type": "code",
   "execution_count": 8,
   "metadata": {},
   "outputs": [],
   "source": [
    "# Prompt Template의 변수에 작성할 때는 Dictionary 형태로 Key-Value쌍으로 입력을 주어야 한다.\n",
    "input = {\"lecture\": \"랭체인\"}"
   ]
  },
  {
   "cell_type": "code",
   "execution_count": null,
   "metadata": {},
   "outputs": [],
   "source": [
    "chain.invoke(input)"
   ]
  },
  {
   "cell_type": "markdown",
   "metadata": {},
   "source": [
    "### 출력 형식 지정(Output Parser)\n",
    "* LLM 모델이 응답해주는 내용에 대한 형식을 지정해주는 것"
   ]
  },
  {
   "cell_type": "code",
   "execution_count": 10,
   "metadata": {},
   "outputs": [],
   "source": [
    "from langchain_core.output_parsers import StrOutputParser\n",
    "\n",
    "output_parser = StrOutputParser()"
   ]
  },
  {
   "cell_type": "code",
   "execution_count": 11,
   "metadata": {},
   "outputs": [],
   "source": [
    "chain = prompt_template | model | output_parser"
   ]
  },
  {
   "cell_type": "code",
   "execution_count": 12,
   "metadata": {},
   "outputs": [
    {
     "data": {
      "text/plain": [
       "'랭체인은 블록체인 기술을 활용하여 게임 산업에 혁신을 가져오는 플랫폼입니다. 랭체인은 게임 내 아이템의 소유권을 블록체인에 기록하고 거래할 수 있도록 하여 게임 경제를 투명하고 안전하게 만들어줍니다. 또한 랭체인은 게임 개발자와 플레이어 간의 상호작용을 촉진하고 게임 내 경제 생태계를 활성화시키는데 도움을 줍니다. 이를 통해 게임 산업의 성장과 발전을 촉진하며 새로운 비즈니스 모델을 제시하는 역할을 합니다.'"
      ]
     },
     "execution_count": 12,
     "metadata": {},
     "output_type": "execute_result"
    }
   ],
   "source": [
    "chain.invoke(input)"
   ]
  },
  {
   "cell_type": "markdown",
   "metadata": {},
   "source": [
    "### 영어 회화를 알려주는 선생님 챗봇\n",
    "### 어떤 상황을 주면 그 상황에 맞는 영어 회화 + 한글 해석 제공받기"
   ]
  },
  {
   "cell_type": "code",
   "execution_count": 13,
   "metadata": {},
   "outputs": [],
   "source": [
    "template = \"\"\"\n",
    "당신은 영어를 가르치는 10년차 선생님입니다. 주어진 상황에 맞는 영어 회화를 작성해주세요.\n",
    "양식은 [FORMAT]을 참고하여 작성해주세요.\n",
    "\n",
    "#상황:\n",
    "{question}\n",
    "\n",
    "#FORMAT:\n",
    "- 영어 회화:\n",
    "- 한글 해석:\n",
    "\"\"\"\n",
    "\n",
    "# 프롬프트 템플릿 작성\n",
    "prompt = prompt_template.from_template(template)\n",
    "\n",
    "# 모델 객체 작성\n",
    "model = ChatOpenAI(model_name=\"gpt-4o\")\n",
    "\n",
    "# 문자열 출력 Parser 객체 생성\n",
    "output_parser = StrOutputParser()"
   ]
  },
  {
   "cell_type": "code",
   "execution_count": 14,
   "metadata": {},
   "outputs": [],
   "source": [
    "# 체인 구성\n",
    "chain = prompt | model | output_parser"
   ]
  },
  {
   "cell_type": "code",
   "execution_count": 15,
   "metadata": {},
   "outputs": [
    {
     "name": "stdout",
     "output_type": "stream",
     "text": [
      "- 영어 회화:\n",
      "  - Customer: Hello, I would like to order some spaghetti, please.\n",
      "  - Waiter: Of course! Would you like any specific type of spaghetti, such as Bolognese or Carbonara?\n",
      "  - Customer: I'll have the Bolognese, please.\n",
      "  - Waiter: Great choice. Would you like anything to drink with that?\n",
      "  - Customer: Yes, I'll have a glass of red wine, please.\n",
      "  - Waiter: Certainly. Your order will be ready shortly.\n",
      "\n",
      "- 한글 해석:\n",
      "  - 손님: 안녕하세요, 스파게티를 주문하고 싶어요.\n",
      "  - 종업원: 물론입니다! 특정 종류의 스파게티를 원하시나요? 예를 들면 볼로네제나 까르보나라 같은요.\n",
      "  - 손님: 볼로네제로 주세요.\n",
      "  - 종업원: 좋은 선택입니다. 함께 드실 음료가 필요하신가요?\n",
      "  - 손님: 네, 레드 와인 한 잔 주세요.\n",
      "  - 종업원: 알겠습니다. 주문하신 음식은 곧 준비될 겁니다.\n"
     ]
    }
   ],
   "source": [
    "# 체인 실행\n",
    "print(chain.invoke({\"question\": \"저는 식당에 가서 스파게티를 주문하고 싶어요.\"}))"
   ]
  },
  {
   "cell_type": "markdown",
   "metadata": {},
   "source": [
    "### 실습\n",
    "* 여러가지 재료를 변수로 입력받고, 재료로 요리할 수 있는 요리의 요리명, 재료, 조리법을 포맷으로 받는 템플릿을 작성하고 문자열 출력 파서로 응답을 받을 수 있게 체인을 구성하세요."
   ]
  },
  {
   "cell_type": "code",
   "execution_count": 17,
   "metadata": {},
   "outputs": [
    {
     "name": "stdout",
     "output_type": "stream",
     "text": [
      "- 요리명: 새우 피자  \n",
      "- 재료: 밀가루, 토마토, 모짜렐라치즈, 루꼴라, 새우  \n",
      "- 조리법:  \n",
      "  1. **피자 도우 준비**: 밀가루에 물과 소금을 넣고 반죽하여 피자 도우를 만듭니다. 반죽을 둥글게 펴서 준비합니다.  \n",
      "  2. **토마토 소스 만들기**: 토마토를 잘게 썰어 팬에 넣고 끓여서 소스를 만듭니다. 소금을 약간 첨가하여 간을 맞춥니다.  \n",
      "  3. **도우에 소스 바르기**: 준비한 피자 도우에 토마토 소스를 고르게 발라줍니다.  \n",
      "  4. **토핑 추가**: 도우 위에 모짜렐라치즈를 듬뿍 올리고, 새우를 적당히 배치합니다.  \n",
      "  5. **피자 굽기**: 예열된 오븐에 피자를 넣고 200도에서 15분 정도 굽습니다.  \n",
      "  6. **마무리**: 구워진 피자 위에 신선한 루꼴라를 올려 마무리합니다.  \n",
      "  7. **서빙**: 따뜻하게 잘라서 서빙합니다.  \n"
     ]
    }
   ],
   "source": [
    "template = \"\"\"\n",
    "사용자가 사용할 재료들을 입력하면 그 재료들로 할 수 있는 요리를 [FORMAT]에 맞게 답변하세요.\n",
    "\n",
    "#재료:\n",
    "{ingredients}\n",
    "\n",
    "#FORMAT:\n",
    "- 요리명:\n",
    "- 재료:\n",
    "- 조리법:\n",
    "\"\"\"\n",
    "\n",
    "prompt = prompt_template.from_template(template)\n",
    "\n",
    "model = ChatOpenAI(model=\"gpt-4o\")\n",
    "\n",
    "output_parser = StrOutputParser()\n",
    "\n",
    "chain = prompt | model | output_parser\n",
    "\n",
    "print(chain.invoke({\"ingredients\": \"밀가루, 토마토, 모짜렐라치즈, 루꼴라, 새우\"}))"
   ]
  }
 ],
 "metadata": {
  "kernelspec": {
   "display_name": "langchain_env",
   "language": "python",
   "name": "python3"
  },
  "language_info": {
   "codemirror_mode": {
    "name": "ipython",
    "version": 3
   },
   "file_extension": ".py",
   "mimetype": "text/x-python",
   "name": "python",
   "nbconvert_exporter": "python",
   "pygments_lexer": "ipython3",
   "version": "3.11.10"
  }
 },
 "nbformat": 4,
 "nbformat_minor": 2
}
