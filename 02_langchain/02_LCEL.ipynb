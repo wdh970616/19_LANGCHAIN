{
 "cells": [
  {
   "cell_type": "markdown",
   "metadata": {},
   "source": [
    "# LCEL(Langchain Expression Language)\n",
    "* 사용자의 입력 => 프롬프트 템플릿 => LLM 모델 전달\n",
    "* 각 단계를 차례로 엮어서 하나의 파이프라인으로 만들어 주는 것\n",
    "\n",
    "chain = prompt | model | output_parser"
   ]
  },
  {
   "cell_type": "markdown",
   "metadata": {},
   "source": [
    "### 프롬프트 템플릿\n",
    "* 사용자의 입력 변수를 받아서 완전한 프롬프트 문자열을 만드는데에 사용하는 템플릿"
   ]
  },
  {
   "cell_type": "code",
   "execution_count": 4,
   "metadata": {},
   "outputs": [],
   "source": [
    "from langchain_core.prompts import PromptTemplate\n",
    "\n",
    "template = \"{lecture}에 대해 설명해주세요.\"\n",
    "\n",
    "prompt_template = PromptTemplate(template=template, input_variables=[\"lecture\"])"
   ]
  },
  {
   "cell_type": "code",
   "execution_count": 5,
   "metadata": {},
   "outputs": [
    {
     "name": "stdout",
     "output_type": "stream",
     "text": [
      "스프링에 대해 설명해주세요.\n"
     ]
    }
   ],
   "source": [
    "lecture = input(\"궁금한 과목을 입력하세요.\")\n",
    "\n",
    "prompt = prompt_template.format(lecture=lecture)\n",
    "\n",
    "print(prompt)"
   ]
  }
 ],
 "metadata": {
  "kernelspec": {
   "display_name": "langchain_env",
   "language": "python",
   "name": "python3"
  },
  "language_info": {
   "codemirror_mode": {
    "name": "ipython",
    "version": 3
   },
   "file_extension": ".py",
   "mimetype": "text/x-python",
   "name": "python",
   "nbconvert_exporter": "python",
   "pygments_lexer": "ipython3",
   "version": "3.11.10"
  }
 },
 "nbformat": 4,
 "nbformat_minor": 2
}
