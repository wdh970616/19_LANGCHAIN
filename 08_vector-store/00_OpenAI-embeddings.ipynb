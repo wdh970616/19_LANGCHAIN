{
 "cells": [
  {
   "cell_type": "markdown",
   "metadata": {},
   "source": [
    "### OpenAIEmbeddings\n",
    "* 문서의 내용을 수치적인 벡터로 변환하는 과정\n",
    "* 문서의 의미를 수치화하고 모델들이 문맥적 정보를 이해할 수 있게 한다.\n",
    "* 벡터화 된 문서들은 문서 분류, 감정 분석, 문서 간 유사도 계산에 사용될 수 있다.\n",
    "\n",
    "지원되는 모델 목록\n",
    "\n",
    "| MODEL                  | PAGES PER DOLLAR | PERFORMANCE ON MTEB EVAL | MAX INPUT |\n",
    "|------------------------|------------------|---------------------------|-----------|\n",
    "| text-embedding-3-small | 62,500           | 62.3%                     | 8191      |\n",
    "| text-embedding-3-large | 9,615            | 64.6%                     | 8191      |\n",
    "| text-embedding-ada-002 | 12,500           | 61.0%                     | 8191      |"
   ]
  },
  {
   "cell_type": "code",
   "execution_count": 1,
   "metadata": {},
   "outputs": [
    {
     "data": {
      "text/plain": [
       "True"
      ]
     },
     "execution_count": 1,
     "metadata": {},
     "output_type": "execute_result"
    }
   ],
   "source": [
    "from dotenv import load_dotenv\n",
    "\n",
    "load_dotenv()"
   ]
  },
  {
   "cell_type": "code",
   "execution_count": 2,
   "metadata": {},
   "outputs": [],
   "source": [
    "from langchain_openai import OpenAIEmbeddings\n",
    "\n",
    "embeddings = OpenAIEmbeddings(model=\"text-embedding-3-small\")"
   ]
  },
  {
   "cell_type": "code",
   "execution_count": 3,
   "metadata": {},
   "outputs": [],
   "source": [
    "text = \"임베딩 테스트 하기 위한 샘플 문장\""
   ]
  },
  {
   "cell_type": "markdown",
   "metadata": {},
   "source": [
    "**쿼리 임베딩**\n",
    "* embedding.embed_query(text)\n",
    "    * 주어진 텍스트를 임베딩 벡터로 변환하는 함수\n",
    "    * 텍스트를 벡터공간에 매핑하여 의미적으로 유사한 텍스트를 찾거나 유사도를 계산할 때 사용"
   ]
  },
  {
   "cell_type": "code",
   "execution_count": 4,
   "metadata": {},
   "outputs": [],
   "source": [
    "query_result = embeddings.embed_query(text)"
   ]
  },
  {
   "cell_type": "code",
   "execution_count": 5,
   "metadata": {},
   "outputs": [
    {
     "data": {
      "text/plain": [
       "[-0.004322961904108524,\n",
       " 0.036349765956401825,\n",
       " 0.030112629756331444,\n",
       " -0.019303826615214348,\n",
       " 0.009104208089411259]"
      ]
     },
     "execution_count": 5,
     "metadata": {},
     "output_type": "execute_result"
    }
   ],
   "source": [
    "query_result[:5]"
   ]
  },
  {
   "cell_type": "markdown",
   "metadata": {},
   "source": [
    "**Document 임베딩**\n",
    "* embeddings.embed_documents()\n",
    "    * 함수를 사용하여 텍스트 문서를 임베딩\n",
    "    * [text]를 인자로 전달하여 단일 문서를 리스트 형태로 임베딩 함수에 전달"
   ]
  },
  {
   "cell_type": "code",
   "execution_count": 6,
   "metadata": {},
   "outputs": [],
   "source": [
    "doc_result = embeddings.embed_documents(\n",
    "    [text, text, text, text]\n",
    ")"
   ]
  },
  {
   "cell_type": "code",
   "execution_count": 7,
   "metadata": {},
   "outputs": [
    {
     "data": {
      "text/plain": [
       "4"
      ]
     },
     "execution_count": 7,
     "metadata": {},
     "output_type": "execute_result"
    }
   ],
   "source": [
    "len(doc_result)"
   ]
  },
  {
   "cell_type": "code",
   "execution_count": 8,
   "metadata": {},
   "outputs": [
    {
     "data": {
      "text/plain": [
       "[-0.004322961904108524,\n",
       " 0.036349765956401825,\n",
       " 0.030112629756331444,\n",
       " -0.019303826615214348,\n",
       " 0.009104208089411259]"
      ]
     },
     "execution_count": 8,
     "metadata": {},
     "output_type": "execute_result"
    }
   ],
   "source": [
    "doc_result[0][:5]"
   ]
  },
  {
   "cell_type": "markdown",
   "metadata": {},
   "source": [
    "### 차원 지정\n",
    "* text-embedding-3-small 모델 같은 경우 1536차원의 임베딩을 반환"
   ]
  },
  {
   "cell_type": "code",
   "execution_count": 9,
   "metadata": {},
   "outputs": [
    {
     "data": {
      "text/plain": [
       "1536"
      ]
     },
     "execution_count": 9,
     "metadata": {},
     "output_type": "execute_result"
    }
   ],
   "source": [
    "len(doc_result[0])"
   ]
  },
  {
   "cell_type": "code",
   "execution_count": 10,
   "metadata": {},
   "outputs": [],
   "source": [
    "# 차원이 1024인 text_embedding-3-small 모델 \n",
    "embeddings_1024 = OpenAIEmbeddings(model=\"text-embedding-3-small\", dimensions=1024)"
   ]
  },
  {
   "cell_type": "code",
   "execution_count": 11,
   "metadata": {},
   "outputs": [
    {
     "data": {
      "text/plain": [
       "1024"
      ]
     },
     "execution_count": 11,
     "metadata": {},
     "output_type": "execute_result"
    }
   ],
   "source": [
    "doc_result_1024 = embeddings_1024.embed_documents([text, text, text, text])\n",
    "len(doc_result_1024[0])"
   ]
  },
  {
   "cell_type": "markdown",
   "metadata": {},
   "source": [
    "* 유사도 계산"
   ]
  },
  {
   "cell_type": "code",
   "execution_count": 12,
   "metadata": {},
   "outputs": [],
   "source": [
    "sentence1 = \"안녕하세요. 반갑습니다.\"\n",
    "sentence2 = \"안녕하세요? 반갑습니다.\"\n",
    "sentence3 = \"안녕하세요! 반갑습니다.\"\n",
    "sentence4 = \"Hi. Nice to meet you.\"\n",
    "sentence5 = \"I like to eat pizza\""
   ]
  },
  {
   "cell_type": "markdown",
   "metadata": {},
   "source": [
    "* 코사인 유사도\n",
    "    * -1 ~ 1 사이의 값을 반환\n",
    "    * 1에 가까울수록 더 유사\n",
    "    * 0은 관계 없음\n",
    "    * -1은 반대됨"
   ]
  },
  {
   "cell_type": "code",
   "execution_count": 16,
   "metadata": {},
   "outputs": [],
   "source": [
    "!pip install -q scikit-learn"
   ]
  },
  {
   "cell_type": "code",
   "execution_count": 21,
   "metadata": {},
   "outputs": [],
   "source": [
    "from sklearn.metrics.pairwise import cosine_similarity\n",
    "\n",
    "sentences = [sentence1, sentence2, sentence3, sentence4, sentence5]\n",
    "embedded_sentences = embeddings_1024.embed_documents(sentences)"
   ]
  },
  {
   "cell_type": "code",
   "execution_count": 20,
   "metadata": {},
   "outputs": [],
   "source": [
    "def similarity(a, b):\n",
    "    return cosine_similarity([a], [b])[0][0]"
   ]
  },
  {
   "cell_type": "code",
   "execution_count": 23,
   "metadata": {},
   "outputs": [
    {
     "name": "stdout",
     "output_type": "stream",
     "text": [
      "[유사도 0.9211] 안녕하세요. 반갑습니다. \t <=====> \t 안녕하세요? 반갑습니다.\n",
      "[유사도 0.9586] 안녕하세요. 반갑습니다. \t <=====> \t 안녕하세요! 반갑습니다.\n",
      "[유사도 0.4726] 안녕하세요. 반갑습니다. \t <=====> \t Hi. Nice to meet you.\n",
      "[유사도 0.0944] 안녕하세요. 반갑습니다. \t <=====> \t I like to eat pizza\n",
      "[유사도 0.9180] 안녕하세요? 반갑습니다. \t <=====> \t 안녕하세요! 반갑습니다.\n",
      "[유사도 0.4800] 안녕하세요? 반갑습니다. \t <=====> \t Hi. Nice to meet you.\n",
      "[유사도 0.0890] 안녕하세요? 반갑습니다. \t <=====> \t I like to eat pizza\n",
      "[유사도 0.4671] 안녕하세요! 반갑습니다. \t <=====> \t Hi. Nice to meet you.\n",
      "[유사도 0.1019] 안녕하세요! 반갑습니다. \t <=====> \t I like to eat pizza\n",
      "[유사도 0.1691] Hi. Nice to meet you. \t <=====> \t I like to eat pizza\n"
     ]
    }
   ],
   "source": [
    "for i, sentence in enumerate(embedded_sentences):\n",
    "    for j, other_sentence in enumerate(embedded_sentences):\n",
    "        if i < j:\n",
    "            print(\n",
    "                f\"[유사도 {similarity(sentence, other_sentence):.4f}] {sentences[i]} \\t <=====> \\t {sentences[j]}\"\n",
    "            )"
   ]
  }
 ],
 "metadata": {
  "kernelspec": {
   "display_name": "langchain_env",
   "language": "python",
   "name": "python3"
  },
  "language_info": {
   "codemirror_mode": {
    "name": "ipython",
    "version": 3
   },
   "file_extension": ".py",
   "mimetype": "text/x-python",
   "name": "python",
   "nbconvert_exporter": "python",
   "pygments_lexer": "ipython3",
   "version": "3.11.10"
  }
 },
 "nbformat": 4,
 "nbformat_minor": 2
}
