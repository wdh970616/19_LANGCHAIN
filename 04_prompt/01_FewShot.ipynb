{
 "cells": [
  {
   "cell_type": "code",
   "execution_count": 1,
   "metadata": {},
   "outputs": [
    {
     "data": {
      "text/plain": [
       "True"
      ]
     },
     "execution_count": 1,
     "metadata": {},
     "output_type": "execute_result"
    }
   ],
   "source": [
    "from dotenv import load_dotenv\n",
    "\n",
    "load_dotenv()"
   ]
  },
  {
   "cell_type": "code",
   "execution_count": 2,
   "metadata": {},
   "outputs": [],
   "source": [
    "from langchain_openai import ChatOpenAI\n",
    "\n",
    "llm = ChatOpenAI(\n",
    "    temperature=0,\n",
    "    model=\"gpt-4o\"\n",
    ")"
   ]
  },
  {
   "cell_type": "markdown",
   "metadata": {},
   "source": [
    "### FewShotPromptTemplate\n",
    "\n",
    "**One Shot**\n",
    "* 하나의 예시만 보여주는 것\n",
    "\n",
    "**Few Shot**\n",
    "* 여러 개의 예시를 보여주는 것"
   ]
  },
  {
   "cell_type": "code",
   "execution_count": 3,
   "metadata": {},
   "outputs": [],
   "source": [
    "# 추론 기법\n",
    "# LLM이 한번에 답변하기 어려운 내용들을 논리적인 추론 과정을 보여주고 그것을 토대로 답변하게 하는 방법\n",
    "examples = [\n",
    "    {\n",
    "    \"question\": \"피카소와 반 고흐 중 누가 더 많은 작품을 남겼나요?\",\n",
    "    \"answer\": \"\"\"이 질문에 추가 질문이 필요한가요: 예.\n",
    "    추가 질문: 피카소는 몇 개의 작품을 남겼나요?\n",
    "    중간 답변: 피카소는 약 50,000개의 작품을 남겼습니다.\n",
    "    추가 질문: 반 고흐는 몇 개의 작품을 남겼나요?\n",
    "    중간 답변: 반 고흐는 약 2,100개의 작품을 남겼습니다.\n",
    "    최종 답변은: 피카소\n",
    "    \"\"\",\n",
    "    },\n",
    "    {\n",
    "    \"question\": \"네이버의 창립자는 언제 태어났나요?\",\n",
    "    \"answer\": \"\"\"이 질문에 추가 질문이 필요한가요: 예.\n",
    "    추가 질문: 네이버의 창립자는 누구인가요?\n",
    "    중간 답변: 네이버는 이해진에 의해 창립되었습니다.\n",
    "    추가 질문: 이해진은 언제 태어났나요?\n",
    "    중간 답변: 이해진은 1967년 6월 22일에 태어났습니다.\n",
    "    최종 답변은: 1967년 6월 22일\n",
    "    \"\"\",\n",
    "    },\n",
    "    {\n",
    "    \"question\": \"타이타닉과 아바타 중 더 많은 수익을 올린 영화는 무엇인가요?\",\n",
    "    \"answer\": \"\"\"이 질문에 추가 질문이 필요한가요: 예.\n",
    "    추가 질문: 타이타닉의 총 수익은 얼마인가요?\n",
    "    중간 답변: 타이타닉의 총 수익은 약 21억 달러입니다.\n",
    "    추가 질문: 아바타의 총 수익은 얼마인가요?\n",
    "    중간 답변: 아바타의 총 수익은 약 28억 달러입니다.\n",
    "    최종 답변은: 아바타\n",
    "    \"\"\",\n",
    "    },\n",
    "    {\n",
    "    \"question\": \"나폴레옹과 알렉산더 대왕 중 누가 더 많은 전투에서 승리했나요?\",\n",
    "    \"answer\": \"\"\"이 질문에 추가 질문이 필요한가요: 예.\n",
    "    추가 질문: 나폴레옹은 몇 번의 전투에서 승리했나요?\n",
    "    중간 답변: 나폴레옹은 약 60번의 전투에서 승리했습니다.\n",
    "    추가 질문: 알렉산더 대왕은 몇 번의 전투에서 승리했나요?\n",
    "    중간 답변: 알렉산더 대왕은 약 20번의 전투에서 승리했습니다.\n",
    "    최종 답변은: 나폴레옹\n",
    "    \"\"\",\n",
    "    },\n",
    "]"
   ]
  },
  {
   "cell_type": "code",
   "execution_count": 4,
   "metadata": {},
   "outputs": [
    {
     "name": "stdout",
     "output_type": "stream",
     "text": [
      "\n",
      "    Question:\n",
      "    피카소와 반 고흐 중 누가 더 많은 작품을 남겼나요?\n",
      "    \n",
      "    Answer:\n",
      "    이 질문에 추가 질문이 필요한가요: 예.\n",
      "    추가 질문: 피카소는 몇 개의 작품을 남겼나요?\n",
      "    중간 답변: 피카소는 약 50,000개의 작품을 남겼습니다.\n",
      "    추가 질문: 반 고흐는 몇 개의 작품을 남겼나요?\n",
      "    중간 답변: 반 고흐는 약 2,100개의 작품을 남겼습니다.\n",
      "    최종 답변은: 피카소\n",
      "    \n",
      "\n"
     ]
    }
   ],
   "source": [
    "from langchain_core.prompts import PromptTemplate\n",
    "\n",
    "example_prompt = PromptTemplate.from_template(\"\"\"\n",
    "    Question:\n",
    "    {question}\n",
    "    \n",
    "    Answer:\n",
    "    {answer}\n",
    "\"\"\")\n",
    "\n",
    "# examples의 0번째 예시를 가져오고 '**'연산자를 사용하여 딕셔너리를 언패킹해서 키값을 인수로 전달하게 함.\n",
    "print(example_prompt.format(**examples[0]))"
   ]
  },
  {
   "cell_type": "code",
   "execution_count": 5,
   "metadata": {},
   "outputs": [
    {
     "name": "stdout",
     "output_type": "stream",
     "text": [
      "\n",
      "    Question:\n",
      "    피카소와 반 고흐 중 누가 더 많은 작품을 남겼나요?\n",
      "    \n",
      "    Answer:\n",
      "    이 질문에 추가 질문이 필요한가요: 예.\n",
      "    추가 질문: 피카소는 몇 개의 작품을 남겼나요?\n",
      "    중간 답변: 피카소는 약 50,000개의 작품을 남겼습니다.\n",
      "    추가 질문: 반 고흐는 몇 개의 작품을 남겼나요?\n",
      "    중간 답변: 반 고흐는 약 2,100개의 작품을 남겼습니다.\n",
      "    최종 답변은: 피카소\n",
      "    \n",
      "\n",
      "\n",
      "\n",
      "    Question:\n",
      "    네이버의 창립자는 언제 태어났나요?\n",
      "    \n",
      "    Answer:\n",
      "    이 질문에 추가 질문이 필요한가요: 예.\n",
      "    추가 질문: 네이버의 창립자는 누구인가요?\n",
      "    중간 답변: 네이버는 이해진에 의해 창립되었습니다.\n",
      "    추가 질문: 이해진은 언제 태어났나요?\n",
      "    중간 답변: 이해진은 1967년 6월 22일에 태어났습니다.\n",
      "    최종 답변은: 1967년 6월 22일\n",
      "    \n",
      "\n",
      "\n",
      "\n",
      "    Question:\n",
      "    타이타닉과 아바타 중 더 많은 수익을 올린 영화는 무엇인가요?\n",
      "    \n",
      "    Answer:\n",
      "    이 질문에 추가 질문이 필요한가요: 예.\n",
      "    추가 질문: 타이타닉의 총 수익은 얼마인가요?\n",
      "    중간 답변: 타이타닉의 총 수익은 약 21억 달러입니다.\n",
      "    추가 질문: 아바타의 총 수익은 얼마인가요?\n",
      "    중간 답변: 아바타의 총 수익은 약 28억 달러입니다.\n",
      "    최종 답변은: 아바타\n",
      "    \n",
      "\n",
      "\n",
      "\n",
      "    Question:\n",
      "    나폴레옹과 알렉산더 대왕 중 누가 더 많은 전투에서 승리했나요?\n",
      "    \n",
      "    Answer:\n",
      "    이 질문에 추가 질문이 필요한가요: 예.\n",
      "    추가 질문: 나폴레옹은 몇 번의 전투에서 승리했나요?\n",
      "    중간 답변: 나폴레옹은 약 60번의 전투에서 승리했습니다.\n",
      "    추가 질문: 알렉산더 대왕은 몇 번의 전투에서 승리했나요?\n",
      "    중간 답변: 알렉산더 대왕은 약 20번의 전투에서 승리했습니다.\n",
      "    최종 답변은: 나폴레옹\n",
      "    \n",
      "\n",
      "\n",
      "Question:\n",
      "    귀도 반 로섬은 몇 살에 파이썬을 만들었나요?\n",
      "    \n",
      "    Answer:\n",
      "    \n"
     ]
    }
   ],
   "source": [
    "from langchain_core.prompts.few_shot import FewShotPromptTemplate\n",
    "\n",
    "prompt = FewShotPromptTemplate(\n",
    "    # 예제 목록들을 지정해주는 인자\n",
    "    examples=examples,\n",
    "    \n",
    "    # 예제 프롬프트 템플릿을 설정\n",
    "    # 각 예제가 어떤 형식으로 포맷팅 될 지 정의하는 인자\n",
    "    example_prompt=example_prompt,\n",
    "    \n",
    "    # 실제 질문을 받을 때 사용할 프롬프트 템플릿의 마지막 부분\n",
    "    suffix=\"\"\"Question:\n",
    "    {question}\n",
    "    \n",
    "    Answer:\n",
    "    \"\"\",\n",
    "    \n",
    "    input_variables=[\"question\"]\n",
    ")\n",
    "\n",
    "question = \"귀도 반 로섬은 몇 살에 파이썬을 만들었나요?\"\n",
    "\n",
    "final_prompt = prompt.format(question=question)\n",
    "\n",
    "print(final_prompt)"
   ]
  },
  {
   "cell_type": "code",
   "execution_count": 6,
   "metadata": {},
   "outputs": [
    {
     "name": "stdout",
     "output_type": "stream",
     "text": [
      "이 질문에 추가 질문이 필요한가요: 예.\n",
      "추가 질문: 귀도 반 로섬은 언제 태어났나요?\n",
      "중간 답변: 귀도 반 로섬은 1956년 1월 31일에 태어났습니다.\n",
      "추가 질문: 파이썬은 언제 만들어졌나요?\n",
      "중간 답변: 파이썬은 1991년에 처음 발표되었습니다.\n",
      "추가 질문: 1991년에는 귀도 반 로섬이 몇 살이었나요?\n",
      "중간 답변: 1991년에는 귀도 반 로섬이 35세였습니다.\n",
      "최종 답변은: 35세\n"
     ]
    }
   ],
   "source": [
    "answer = llm.invoke(final_prompt)\n",
    "\n",
    "print(answer.content)"
   ]
  },
  {
   "cell_type": "code",
   "execution_count": 7,
   "metadata": {},
   "outputs": [
    {
     "name": "stdout",
     "output_type": "stream",
     "text": [
      "이 질문에 추가 질문이 필요한가요: 예.\n",
      "추가 질문: 귀도 반 로섬은 언제 태어났나요?\n",
      "중간 답변: 귀도 반 로섬은 1956년 1월 31일에 태어났습니다.\n",
      "추가 질문: 파이썬은 언제 만들어졌나요?\n",
      "중간 답변: 파이썬은 1991년에 처음 발표되었습니다.\n",
      "추가 질문: 1991년에는 귀도 반 로섬이 몇 살이었나요?\n",
      "중간 답변: 1991년에는 귀도 반 로섬이 35세였습니다.\n",
      "최종 답변은: 35세\n"
     ]
    }
   ],
   "source": [
    "from langchain_core.output_parsers import StrOutputParser\n",
    "\n",
    "chain = prompt | llm | StrOutputParser()\n",
    "\n",
    "answer = chain.invoke({\"question\": question})\n",
    "\n",
    "print(answer)"
   ]
  },
  {
   "cell_type": "markdown",
   "metadata": {},
   "source": [
    "### Example Selector\n",
    "* 주어진 질문에 가장 적합한 예제를 선택해서 프롬프트에 포함시키기 위해 사용한다.\n",
    "* 적합한 예제를 선택해서 사용함으로써 모델이 더 정확하고 관련성 높은 답변을 만들 수 있다.\n",
    "* 비용 절감의 효과도 있다."
   ]
  },
  {
   "cell_type": "code",
   "execution_count": 8,
   "metadata": {},
   "outputs": [
    {
     "name": "stdout",
     "output_type": "stream",
     "text": [
      "Requirement already satisfied: langchain-chroma in c:\\users\\20116\\miniforge3\\envs\\langchain_env\\lib\\site-packages (0.1.4)\n",
      "Requirement already satisfied: chromadb!=0.5.4,!=0.5.5,<0.6.0,>=0.4.0 in c:\\users\\20116\\miniforge3\\envs\\langchain_env\\lib\\site-packages (from langchain-chroma) (0.5.16)\n",
      "Requirement already satisfied: fastapi<1,>=0.95.2 in c:\\users\\20116\\miniforge3\\envs\\langchain_env\\lib\\site-packages (from langchain-chroma) (0.115.4)\n",
      "Requirement already satisfied: langchain-core<0.4,>=0.1.40 in c:\\users\\20116\\miniforge3\\envs\\langchain_env\\lib\\site-packages (from langchain-chroma) (0.3.13)\n",
      "Requirement already satisfied: numpy<2,>=1 in c:\\users\\20116\\miniforge3\\envs\\langchain_env\\lib\\site-packages (from langchain-chroma) (1.26.4)\n",
      "Requirement already satisfied: build>=1.0.3 in c:\\users\\20116\\miniforge3\\envs\\langchain_env\\lib\\site-packages (from chromadb!=0.5.4,!=0.5.5,<0.6.0,>=0.4.0->langchain-chroma) (1.2.2.post1)\n",
      "Requirement already satisfied: pydantic>=1.9 in c:\\users\\20116\\miniforge3\\envs\\langchain_env\\lib\\site-packages (from chromadb!=0.5.4,!=0.5.5,<0.6.0,>=0.4.0->langchain-chroma) (2.9.2)\n",
      "Requirement already satisfied: chroma-hnswlib==0.7.6 in c:\\users\\20116\\miniforge3\\envs\\langchain_env\\lib\\site-packages (from chromadb!=0.5.4,!=0.5.5,<0.6.0,>=0.4.0->langchain-chroma) (0.7.6)\n",
      "Requirement already satisfied: uvicorn>=0.18.3 in c:\\users\\20116\\miniforge3\\envs\\langchain_env\\lib\\site-packages (from uvicorn[standard]>=0.18.3->chromadb!=0.5.4,!=0.5.5,<0.6.0,>=0.4.0->langchain-chroma) (0.32.0)\n",
      "Requirement already satisfied: posthog>=2.4.0 in c:\\users\\20116\\miniforge3\\envs\\langchain_env\\lib\\site-packages (from chromadb!=0.5.4,!=0.5.5,<0.6.0,>=0.4.0->langchain-chroma) (3.7.0)\n",
      "Requirement already satisfied: typing-extensions>=4.5.0 in c:\\users\\20116\\miniforge3\\envs\\langchain_env\\lib\\site-packages (from chromadb!=0.5.4,!=0.5.5,<0.6.0,>=0.4.0->langchain-chroma) (4.12.2)\n",
      "Requirement already satisfied: onnxruntime>=1.14.1 in c:\\users\\20116\\miniforge3\\envs\\langchain_env\\lib\\site-packages (from chromadb!=0.5.4,!=0.5.5,<0.6.0,>=0.4.0->langchain-chroma) (1.19.2)\n",
      "Requirement already satisfied: opentelemetry-api>=1.2.0 in c:\\users\\20116\\miniforge3\\envs\\langchain_env\\lib\\site-packages (from chromadb!=0.5.4,!=0.5.5,<0.6.0,>=0.4.0->langchain-chroma) (1.27.0)\n",
      "Requirement already satisfied: opentelemetry-exporter-otlp-proto-grpc>=1.2.0 in c:\\users\\20116\\miniforge3\\envs\\langchain_env\\lib\\site-packages (from chromadb!=0.5.4,!=0.5.5,<0.6.0,>=0.4.0->langchain-chroma) (1.27.0)\n",
      "Requirement already satisfied: opentelemetry-instrumentation-fastapi>=0.41b0 in c:\\users\\20116\\miniforge3\\envs\\langchain_env\\lib\\site-packages (from chromadb!=0.5.4,!=0.5.5,<0.6.0,>=0.4.0->langchain-chroma) (0.48b0)\n",
      "Requirement already satisfied: opentelemetry-sdk>=1.2.0 in c:\\users\\20116\\miniforge3\\envs\\langchain_env\\lib\\site-packages (from chromadb!=0.5.4,!=0.5.5,<0.6.0,>=0.4.0->langchain-chroma) (1.27.0)\n",
      "Requirement already satisfied: tokenizers>=0.13.2 in c:\\users\\20116\\miniforge3\\envs\\langchain_env\\lib\\site-packages (from chromadb!=0.5.4,!=0.5.5,<0.6.0,>=0.4.0->langchain-chroma) (0.20.1)\n",
      "Requirement already satisfied: pypika>=0.48.9 in c:\\users\\20116\\miniforge3\\envs\\langchain_env\\lib\\site-packages (from chromadb!=0.5.4,!=0.5.5,<0.6.0,>=0.4.0->langchain-chroma) (0.48.9)\n",
      "Requirement already satisfied: tqdm>=4.65.0 in c:\\users\\20116\\miniforge3\\envs\\langchain_env\\lib\\site-packages (from chromadb!=0.5.4,!=0.5.5,<0.6.0,>=0.4.0->langchain-chroma) (4.66.5)\n",
      "Requirement already satisfied: overrides>=7.3.1 in c:\\users\\20116\\miniforge3\\envs\\langchain_env\\lib\\site-packages (from chromadb!=0.5.4,!=0.5.5,<0.6.0,>=0.4.0->langchain-chroma) (7.7.0)\n",
      "Requirement already satisfied: importlib-resources in c:\\users\\20116\\miniforge3\\envs\\langchain_env\\lib\\site-packages (from chromadb!=0.5.4,!=0.5.5,<0.6.0,>=0.4.0->langchain-chroma) (6.4.5)\n",
      "Requirement already satisfied: grpcio>=1.58.0 in c:\\users\\20116\\miniforge3\\envs\\langchain_env\\lib\\site-packages (from chromadb!=0.5.4,!=0.5.5,<0.6.0,>=0.4.0->langchain-chroma) (1.67.1)\n",
      "Requirement already satisfied: bcrypt>=4.0.1 in c:\\users\\20116\\miniforge3\\envs\\langchain_env\\lib\\site-packages (from chromadb!=0.5.4,!=0.5.5,<0.6.0,>=0.4.0->langchain-chroma) (4.2.0)\n",
      "Requirement already satisfied: typer>=0.9.0 in c:\\users\\20116\\miniforge3\\envs\\langchain_env\\lib\\site-packages (from chromadb!=0.5.4,!=0.5.5,<0.6.0,>=0.4.0->langchain-chroma) (0.12.5)\n",
      "Requirement already satisfied: kubernetes>=28.1.0 in c:\\users\\20116\\miniforge3\\envs\\langchain_env\\lib\\site-packages (from chromadb!=0.5.4,!=0.5.5,<0.6.0,>=0.4.0->langchain-chroma) (31.0.0)\n",
      "Requirement already satisfied: tenacity>=8.2.3 in c:\\users\\20116\\miniforge3\\envs\\langchain_env\\lib\\site-packages (from chromadb!=0.5.4,!=0.5.5,<0.6.0,>=0.4.0->langchain-chroma) (9.0.0)\n",
      "Requirement already satisfied: PyYAML>=6.0.0 in c:\\users\\20116\\miniforge3\\envs\\langchain_env\\lib\\site-packages (from chromadb!=0.5.4,!=0.5.5,<0.6.0,>=0.4.0->langchain-chroma) (6.0.2)\n",
      "Requirement already satisfied: mmh3>=4.0.1 in c:\\users\\20116\\miniforge3\\envs\\langchain_env\\lib\\site-packages (from chromadb!=0.5.4,!=0.5.5,<0.6.0,>=0.4.0->langchain-chroma) (5.0.1)\n",
      "Requirement already satisfied: orjson>=3.9.12 in c:\\users\\20116\\miniforge3\\envs\\langchain_env\\lib\\site-packages (from chromadb!=0.5.4,!=0.5.5,<0.6.0,>=0.4.0->langchain-chroma) (3.10.10)\n",
      "Requirement already satisfied: httpx>=0.27.0 in c:\\users\\20116\\miniforge3\\envs\\langchain_env\\lib\\site-packages (from chromadb!=0.5.4,!=0.5.5,<0.6.0,>=0.4.0->langchain-chroma) (0.27.2)\n",
      "Requirement already satisfied: rich>=10.11.0 in c:\\users\\20116\\miniforge3\\envs\\langchain_env\\lib\\site-packages (from chromadb!=0.5.4,!=0.5.5,<0.6.0,>=0.4.0->langchain-chroma) (13.9.3)\n",
      "Requirement already satisfied: starlette<0.42.0,>=0.40.0 in c:\\users\\20116\\miniforge3\\envs\\langchain_env\\lib\\site-packages (from fastapi<1,>=0.95.2->langchain-chroma) (0.41.2)\n",
      "Requirement already satisfied: jsonpatch<2.0,>=1.33 in c:\\users\\20116\\miniforge3\\envs\\langchain_env\\lib\\site-packages (from langchain-core<0.4,>=0.1.40->langchain-chroma) (1.33)\n",
      "Requirement already satisfied: langsmith<0.2.0,>=0.1.125 in c:\\users\\20116\\miniforge3\\envs\\langchain_env\\lib\\site-packages (from langchain-core<0.4,>=0.1.40->langchain-chroma) (0.1.137)\n",
      "Requirement already satisfied: packaging<25,>=23.2 in c:\\users\\20116\\miniforge3\\envs\\langchain_env\\lib\\site-packages (from langchain-core<0.4,>=0.1.40->langchain-chroma) (24.1)\n",
      "Requirement already satisfied: pyproject_hooks in c:\\users\\20116\\miniforge3\\envs\\langchain_env\\lib\\site-packages (from build>=1.0.3->chromadb!=0.5.4,!=0.5.5,<0.6.0,>=0.4.0->langchain-chroma) (1.2.0)\n",
      "Requirement already satisfied: colorama in c:\\users\\20116\\miniforge3\\envs\\langchain_env\\lib\\site-packages (from build>=1.0.3->chromadb!=0.5.4,!=0.5.5,<0.6.0,>=0.4.0->langchain-chroma) (0.4.6)\n",
      "Requirement already satisfied: anyio in c:\\users\\20116\\miniforge3\\envs\\langchain_env\\lib\\site-packages (from httpx>=0.27.0->chromadb!=0.5.4,!=0.5.5,<0.6.0,>=0.4.0->langchain-chroma) (4.6.2.post1)\n",
      "Requirement already satisfied: certifi in c:\\users\\20116\\miniforge3\\envs\\langchain_env\\lib\\site-packages (from httpx>=0.27.0->chromadb!=0.5.4,!=0.5.5,<0.6.0,>=0.4.0->langchain-chroma) (2024.8.30)\n",
      "Requirement already satisfied: httpcore==1.* in c:\\users\\20116\\miniforge3\\envs\\langchain_env\\lib\\site-packages (from httpx>=0.27.0->chromadb!=0.5.4,!=0.5.5,<0.6.0,>=0.4.0->langchain-chroma) (1.0.6)\n",
      "Requirement already satisfied: idna in c:\\users\\20116\\miniforge3\\envs\\langchain_env\\lib\\site-packages (from httpx>=0.27.0->chromadb!=0.5.4,!=0.5.5,<0.6.0,>=0.4.0->langchain-chroma) (3.10)\n",
      "Requirement already satisfied: sniffio in c:\\users\\20116\\miniforge3\\envs\\langchain_env\\lib\\site-packages (from httpx>=0.27.0->chromadb!=0.5.4,!=0.5.5,<0.6.0,>=0.4.0->langchain-chroma) (1.3.1)\n",
      "Requirement already satisfied: h11<0.15,>=0.13 in c:\\users\\20116\\miniforge3\\envs\\langchain_env\\lib\\site-packages (from httpcore==1.*->httpx>=0.27.0->chromadb!=0.5.4,!=0.5.5,<0.6.0,>=0.4.0->langchain-chroma) (0.14.0)\n",
      "Requirement already satisfied: jsonpointer>=1.9 in c:\\users\\20116\\miniforge3\\envs\\langchain_env\\lib\\site-packages (from jsonpatch<2.0,>=1.33->langchain-core<0.4,>=0.1.40->langchain-chroma) (3.0.0)\n",
      "Requirement already satisfied: six>=1.9.0 in c:\\users\\20116\\miniforge3\\envs\\langchain_env\\lib\\site-packages (from kubernetes>=28.1.0->chromadb!=0.5.4,!=0.5.5,<0.6.0,>=0.4.0->langchain-chroma) (1.16.0)\n",
      "Requirement already satisfied: python-dateutil>=2.5.3 in c:\\users\\20116\\miniforge3\\envs\\langchain_env\\lib\\site-packages (from kubernetes>=28.1.0->chromadb!=0.5.4,!=0.5.5,<0.6.0,>=0.4.0->langchain-chroma) (2.9.0.post0)\n",
      "Requirement already satisfied: google-auth>=1.0.1 in c:\\users\\20116\\miniforge3\\envs\\langchain_env\\lib\\site-packages (from kubernetes>=28.1.0->chromadb!=0.5.4,!=0.5.5,<0.6.0,>=0.4.0->langchain-chroma) (2.35.0)\n",
      "Requirement already satisfied: websocket-client!=0.40.0,!=0.41.*,!=0.42.*,>=0.32.0 in c:\\users\\20116\\miniforge3\\envs\\langchain_env\\lib\\site-packages (from kubernetes>=28.1.0->chromadb!=0.5.4,!=0.5.5,<0.6.0,>=0.4.0->langchain-chroma) (1.8.0)\n",
      "Requirement already satisfied: requests in c:\\users\\20116\\miniforge3\\envs\\langchain_env\\lib\\site-packages (from kubernetes>=28.1.0->chromadb!=0.5.4,!=0.5.5,<0.6.0,>=0.4.0->langchain-chroma) (2.32.3)\n",
      "Requirement already satisfied: requests-oauthlib in c:\\users\\20116\\miniforge3\\envs\\langchain_env\\lib\\site-packages (from kubernetes>=28.1.0->chromadb!=0.5.4,!=0.5.5,<0.6.0,>=0.4.0->langchain-chroma) (2.0.0)\n",
      "Requirement already satisfied: oauthlib>=3.2.2 in c:\\users\\20116\\miniforge3\\envs\\langchain_env\\lib\\site-packages (from kubernetes>=28.1.0->chromadb!=0.5.4,!=0.5.5,<0.6.0,>=0.4.0->langchain-chroma) (3.2.2)\n",
      "Requirement already satisfied: urllib3>=1.24.2 in c:\\users\\20116\\miniforge3\\envs\\langchain_env\\lib\\site-packages (from kubernetes>=28.1.0->chromadb!=0.5.4,!=0.5.5,<0.6.0,>=0.4.0->langchain-chroma) (2.2.3)\n",
      "Requirement already satisfied: durationpy>=0.7 in c:\\users\\20116\\miniforge3\\envs\\langchain_env\\lib\\site-packages (from kubernetes>=28.1.0->chromadb!=0.5.4,!=0.5.5,<0.6.0,>=0.4.0->langchain-chroma) (0.9)\n",
      "Requirement already satisfied: requests-toolbelt<2.0.0,>=1.0.0 in c:\\users\\20116\\miniforge3\\envs\\langchain_env\\lib\\site-packages (from langsmith<0.2.0,>=0.1.125->langchain-core<0.4,>=0.1.40->langchain-chroma) (1.0.0)\n",
      "Requirement already satisfied: coloredlogs in c:\\users\\20116\\miniforge3\\envs\\langchain_env\\lib\\site-packages (from onnxruntime>=1.14.1->chromadb!=0.5.4,!=0.5.5,<0.6.0,>=0.4.0->langchain-chroma) (15.0.1)\n",
      "Requirement already satisfied: flatbuffers in c:\\users\\20116\\miniforge3\\envs\\langchain_env\\lib\\site-packages (from onnxruntime>=1.14.1->chromadb!=0.5.4,!=0.5.5,<0.6.0,>=0.4.0->langchain-chroma) (24.3.25)\n",
      "Requirement already satisfied: protobuf in c:\\users\\20116\\miniforge3\\envs\\langchain_env\\lib\\site-packages (from onnxruntime>=1.14.1->chromadb!=0.5.4,!=0.5.5,<0.6.0,>=0.4.0->langchain-chroma) (4.25.5)\n",
      "Requirement already satisfied: sympy in c:\\users\\20116\\miniforge3\\envs\\langchain_env\\lib\\site-packages (from onnxruntime>=1.14.1->chromadb!=0.5.4,!=0.5.5,<0.6.0,>=0.4.0->langchain-chroma) (1.13.3)\n",
      "Requirement already satisfied: deprecated>=1.2.6 in c:\\users\\20116\\miniforge3\\envs\\langchain_env\\lib\\site-packages (from opentelemetry-api>=1.2.0->chromadb!=0.5.4,!=0.5.5,<0.6.0,>=0.4.0->langchain-chroma) (1.2.14)\n",
      "Requirement already satisfied: importlib-metadata<=8.4.0,>=6.0 in c:\\users\\20116\\miniforge3\\envs\\langchain_env\\lib\\site-packages (from opentelemetry-api>=1.2.0->chromadb!=0.5.4,!=0.5.5,<0.6.0,>=0.4.0->langchain-chroma) (8.4.0)\n",
      "Requirement already satisfied: googleapis-common-protos~=1.52 in c:\\users\\20116\\miniforge3\\envs\\langchain_env\\lib\\site-packages (from opentelemetry-exporter-otlp-proto-grpc>=1.2.0->chromadb!=0.5.4,!=0.5.5,<0.6.0,>=0.4.0->langchain-chroma) (1.65.0)\n",
      "Requirement already satisfied: opentelemetry-exporter-otlp-proto-common==1.27.0 in c:\\users\\20116\\miniforge3\\envs\\langchain_env\\lib\\site-packages (from opentelemetry-exporter-otlp-proto-grpc>=1.2.0->chromadb!=0.5.4,!=0.5.5,<0.6.0,>=0.4.0->langchain-chroma) (1.27.0)\n",
      "Requirement already satisfied: opentelemetry-proto==1.27.0 in c:\\users\\20116\\miniforge3\\envs\\langchain_env\\lib\\site-packages (from opentelemetry-exporter-otlp-proto-grpc>=1.2.0->chromadb!=0.5.4,!=0.5.5,<0.6.0,>=0.4.0->langchain-chroma) (1.27.0)\n",
      "Requirement already satisfied: opentelemetry-instrumentation-asgi==0.48b0 in c:\\users\\20116\\miniforge3\\envs\\langchain_env\\lib\\site-packages (from opentelemetry-instrumentation-fastapi>=0.41b0->chromadb!=0.5.4,!=0.5.5,<0.6.0,>=0.4.0->langchain-chroma) (0.48b0)\n",
      "Requirement already satisfied: opentelemetry-instrumentation==0.48b0 in c:\\users\\20116\\miniforge3\\envs\\langchain_env\\lib\\site-packages (from opentelemetry-instrumentation-fastapi>=0.41b0->chromadb!=0.5.4,!=0.5.5,<0.6.0,>=0.4.0->langchain-chroma) (0.48b0)\n",
      "Requirement already satisfied: opentelemetry-semantic-conventions==0.48b0 in c:\\users\\20116\\miniforge3\\envs\\langchain_env\\lib\\site-packages (from opentelemetry-instrumentation-fastapi>=0.41b0->chromadb!=0.5.4,!=0.5.5,<0.6.0,>=0.4.0->langchain-chroma) (0.48b0)\n",
      "Requirement already satisfied: opentelemetry-util-http==0.48b0 in c:\\users\\20116\\miniforge3\\envs\\langchain_env\\lib\\site-packages (from opentelemetry-instrumentation-fastapi>=0.41b0->chromadb!=0.5.4,!=0.5.5,<0.6.0,>=0.4.0->langchain-chroma) (0.48b0)\n",
      "Requirement already satisfied: setuptools>=16.0 in c:\\users\\20116\\miniforge3\\envs\\langchain_env\\lib\\site-packages (from opentelemetry-instrumentation==0.48b0->opentelemetry-instrumentation-fastapi>=0.41b0->chromadb!=0.5.4,!=0.5.5,<0.6.0,>=0.4.0->langchain-chroma) (75.1.0)\n",
      "Requirement already satisfied: wrapt<2.0.0,>=1.0.0 in c:\\users\\20116\\miniforge3\\envs\\langchain_env\\lib\\site-packages (from opentelemetry-instrumentation==0.48b0->opentelemetry-instrumentation-fastapi>=0.41b0->chromadb!=0.5.4,!=0.5.5,<0.6.0,>=0.4.0->langchain-chroma) (1.16.0)\n",
      "Requirement already satisfied: asgiref~=3.0 in c:\\users\\20116\\miniforge3\\envs\\langchain_env\\lib\\site-packages (from opentelemetry-instrumentation-asgi==0.48b0->opentelemetry-instrumentation-fastapi>=0.41b0->chromadb!=0.5.4,!=0.5.5,<0.6.0,>=0.4.0->langchain-chroma) (3.8.1)\n",
      "Requirement already satisfied: monotonic>=1.5 in c:\\users\\20116\\miniforge3\\envs\\langchain_env\\lib\\site-packages (from posthog>=2.4.0->chromadb!=0.5.4,!=0.5.5,<0.6.0,>=0.4.0->langchain-chroma) (1.6)\n",
      "Requirement already satisfied: backoff>=1.10.0 in c:\\users\\20116\\miniforge3\\envs\\langchain_env\\lib\\site-packages (from posthog>=2.4.0->chromadb!=0.5.4,!=0.5.5,<0.6.0,>=0.4.0->langchain-chroma) (2.2.1)\n",
      "Requirement already satisfied: annotated-types>=0.6.0 in c:\\users\\20116\\miniforge3\\envs\\langchain_env\\lib\\site-packages (from pydantic>=1.9->chromadb!=0.5.4,!=0.5.5,<0.6.0,>=0.4.0->langchain-chroma) (0.7.0)\n",
      "Requirement already satisfied: pydantic-core==2.23.4 in c:\\users\\20116\\miniforge3\\envs\\langchain_env\\lib\\site-packages (from pydantic>=1.9->chromadb!=0.5.4,!=0.5.5,<0.6.0,>=0.4.0->langchain-chroma) (2.23.4)\n",
      "Requirement already satisfied: markdown-it-py>=2.2.0 in c:\\users\\20116\\miniforge3\\envs\\langchain_env\\lib\\site-packages (from rich>=10.11.0->chromadb!=0.5.4,!=0.5.5,<0.6.0,>=0.4.0->langchain-chroma) (3.0.0)\n",
      "Requirement already satisfied: pygments<3.0.0,>=2.13.0 in c:\\users\\20116\\miniforge3\\envs\\langchain_env\\lib\\site-packages (from rich>=10.11.0->chromadb!=0.5.4,!=0.5.5,<0.6.0,>=0.4.0->langchain-chroma) (2.18.0)\n",
      "Requirement already satisfied: huggingface-hub<1.0,>=0.16.4 in c:\\users\\20116\\miniforge3\\envs\\langchain_env\\lib\\site-packages (from tokenizers>=0.13.2->chromadb!=0.5.4,!=0.5.5,<0.6.0,>=0.4.0->langchain-chroma) (0.26.2)\n",
      "Requirement already satisfied: click>=8.0.0 in c:\\users\\20116\\miniforge3\\envs\\langchain_env\\lib\\site-packages (from typer>=0.9.0->chromadb!=0.5.4,!=0.5.5,<0.6.0,>=0.4.0->langchain-chroma) (8.1.7)\n",
      "Requirement already satisfied: shellingham>=1.3.0 in c:\\users\\20116\\miniforge3\\envs\\langchain_env\\lib\\site-packages (from typer>=0.9.0->chromadb!=0.5.4,!=0.5.5,<0.6.0,>=0.4.0->langchain-chroma) (1.5.4)\n",
      "Requirement already satisfied: httptools>=0.5.0 in c:\\users\\20116\\miniforge3\\envs\\langchain_env\\lib\\site-packages (from uvicorn[standard]>=0.18.3->chromadb!=0.5.4,!=0.5.5,<0.6.0,>=0.4.0->langchain-chroma) (0.6.4)\n",
      "Requirement already satisfied: python-dotenv>=0.13 in c:\\users\\20116\\miniforge3\\envs\\langchain_env\\lib\\site-packages (from uvicorn[standard]>=0.18.3->chromadb!=0.5.4,!=0.5.5,<0.6.0,>=0.4.0->langchain-chroma) (1.0.1)\n",
      "Requirement already satisfied: watchfiles>=0.13 in c:\\users\\20116\\miniforge3\\envs\\langchain_env\\lib\\site-packages (from uvicorn[standard]>=0.18.3->chromadb!=0.5.4,!=0.5.5,<0.6.0,>=0.4.0->langchain-chroma) (0.24.0)\n",
      "Requirement already satisfied: websockets>=10.4 in c:\\users\\20116\\miniforge3\\envs\\langchain_env\\lib\\site-packages (from uvicorn[standard]>=0.18.3->chromadb!=0.5.4,!=0.5.5,<0.6.0,>=0.4.0->langchain-chroma) (13.1)\n",
      "Requirement already satisfied: cachetools<6.0,>=2.0.0 in c:\\users\\20116\\miniforge3\\envs\\langchain_env\\lib\\site-packages (from google-auth>=1.0.1->kubernetes>=28.1.0->chromadb!=0.5.4,!=0.5.5,<0.6.0,>=0.4.0->langchain-chroma) (5.5.0)\n",
      "Requirement already satisfied: pyasn1-modules>=0.2.1 in c:\\users\\20116\\miniforge3\\envs\\langchain_env\\lib\\site-packages (from google-auth>=1.0.1->kubernetes>=28.1.0->chromadb!=0.5.4,!=0.5.5,<0.6.0,>=0.4.0->langchain-chroma) (0.4.1)\n",
      "Requirement already satisfied: rsa<5,>=3.1.4 in c:\\users\\20116\\miniforge3\\envs\\langchain_env\\lib\\site-packages (from google-auth>=1.0.1->kubernetes>=28.1.0->chromadb!=0.5.4,!=0.5.5,<0.6.0,>=0.4.0->langchain-chroma) (4.9)\n",
      "Requirement already satisfied: filelock in c:\\users\\20116\\miniforge3\\envs\\langchain_env\\lib\\site-packages (from huggingface-hub<1.0,>=0.16.4->tokenizers>=0.13.2->chromadb!=0.5.4,!=0.5.5,<0.6.0,>=0.4.0->langchain-chroma) (3.16.1)\n",
      "Requirement already satisfied: fsspec>=2023.5.0 in c:\\users\\20116\\miniforge3\\envs\\langchain_env\\lib\\site-packages (from huggingface-hub<1.0,>=0.16.4->tokenizers>=0.13.2->chromadb!=0.5.4,!=0.5.5,<0.6.0,>=0.4.0->langchain-chroma) (2024.10.0)\n",
      "Requirement already satisfied: zipp>=0.5 in c:\\users\\20116\\miniforge3\\envs\\langchain_env\\lib\\site-packages (from importlib-metadata<=8.4.0,>=6.0->opentelemetry-api>=1.2.0->chromadb!=0.5.4,!=0.5.5,<0.6.0,>=0.4.0->langchain-chroma) (3.20.2)\n",
      "Requirement already satisfied: mdurl~=0.1 in c:\\users\\20116\\miniforge3\\envs\\langchain_env\\lib\\site-packages (from markdown-it-py>=2.2.0->rich>=10.11.0->chromadb!=0.5.4,!=0.5.5,<0.6.0,>=0.4.0->langchain-chroma) (0.1.2)\n",
      "Requirement already satisfied: charset-normalizer<4,>=2 in c:\\users\\20116\\miniforge3\\envs\\langchain_env\\lib\\site-packages (from requests->kubernetes>=28.1.0->chromadb!=0.5.4,!=0.5.5,<0.6.0,>=0.4.0->langchain-chroma) (3.4.0)\n",
      "Requirement already satisfied: humanfriendly>=9.1 in c:\\users\\20116\\miniforge3\\envs\\langchain_env\\lib\\site-packages (from coloredlogs->onnxruntime>=1.14.1->chromadb!=0.5.4,!=0.5.5,<0.6.0,>=0.4.0->langchain-chroma) (10.0)\n",
      "Requirement already satisfied: mpmath<1.4,>=1.1.0 in c:\\users\\20116\\miniforge3\\envs\\langchain_env\\lib\\site-packages (from sympy->onnxruntime>=1.14.1->chromadb!=0.5.4,!=0.5.5,<0.6.0,>=0.4.0->langchain-chroma) (1.3.0)\n",
      "Requirement already satisfied: pyreadline3 in c:\\users\\20116\\miniforge3\\envs\\langchain_env\\lib\\site-packages (from humanfriendly>=9.1->coloredlogs->onnxruntime>=1.14.1->chromadb!=0.5.4,!=0.5.5,<0.6.0,>=0.4.0->langchain-chroma) (3.5.4)\n",
      "Requirement already satisfied: pyasn1<0.7.0,>=0.4.6 in c:\\users\\20116\\miniforge3\\envs\\langchain_env\\lib\\site-packages (from pyasn1-modules>=0.2.1->google-auth>=1.0.1->kubernetes>=28.1.0->chromadb!=0.5.4,!=0.5.5,<0.6.0,>=0.4.0->langchain-chroma) (0.6.1)\n"
     ]
    }
   ],
   "source": [
    "!pip install langchain-chroma"
   ]
  },
  {
   "cell_type": "markdown",
   "metadata": {},
   "source": [
    "### MaxMarginalRelevanceExampleSelector(MMR 알고리즘)\n",
    "* 정보 검색과 문서 요약 과정에 다양성과 관련성을 모두 고려하여 선택하는 알고리즘\n",
    "* 결과의 중복성을 줄이면서도 관련성이 높은 정보를 제공해준다."
   ]
  },
  {
   "cell_type": "code",
   "execution_count": 9,
   "metadata": {},
   "outputs": [
    {
     "name": "stdout",
     "output_type": "stream",
     "text": [
      "질문에 가장 유사한 예시 :  [{'answer': '이 질문에 추가 질문이 필요한가요: 예.\\n    추가 질문: 네이버의 창립자는 누구인가요?\\n    중간 답변: 네이버는 이해진에 의해 창립되었습니다.\\n    추가 질문: 이해진은 언제 태어났나요?\\n    중간 답변: 이해진은 1967년 6월 22일에 태어났습니다.\\n    최종 답변은: 1967년 6월 22일\\n    ', 'question': '네이버의 창립자는 언제 태어났나요?'}]\n"
     ]
    }
   ],
   "source": [
    "from langchain_core.example_selectors import SemanticSimilarityExampleSelector\n",
    "from langchain_openai import OpenAIEmbeddings\n",
    "from langchain_chroma import Chroma\n",
    "\n",
    "# 벡터스토어 생성\n",
    "chroma = Chroma(\"example_selctor\", OpenAIEmbeddings())\n",
    "\n",
    "example_selector = SemanticSimilarityExampleSelector.from_examples(\n",
    "    # 예시 목록\n",
    "    examples,\n",
    "    \n",
    "    # 임베딩\n",
    "    OpenAIEmbeddings(),\n",
    "    \n",
    "    # 벡터스토어\n",
    "    chroma,\n",
    "    \n",
    "    # 생성할 예시의 수\n",
    "    k=1\n",
    ")\n",
    "\n",
    "question = \"애플이 설립된 해에 스티브 잡스의 나이는 몇 살 이었나요?\"\n",
    "\n",
    "selected_examples = example_selector.select_examples({\"question\": question})\n",
    "\n",
    "print(\"질문에 가장 유사한 예시 : \", selected_examples)"
   ]
  },
  {
   "cell_type": "code",
   "execution_count": 10,
   "metadata": {},
   "outputs": [
    {
     "name": "stdout",
     "output_type": "stream",
     "text": [
      "\n",
      "    Question:\n",
      "    네이버의 창립자는 언제 태어났나요?\n",
      "    \n",
      "    Answer:\n",
      "    이 질문에 추가 질문이 필요한가요: 예.\n",
      "    추가 질문: 네이버의 창립자는 누구인가요?\n",
      "    중간 답변: 네이버는 이해진에 의해 창립되었습니다.\n",
      "    추가 질문: 이해진은 언제 태어났나요?\n",
      "    중간 답변: 이해진은 1967년 6월 22일에 태어났습니다.\n",
      "    최종 답변은: 1967년 6월 22일\n",
      "    \n",
      "\n",
      "\n",
      "Question:\n",
      "    애플이 설립된 해에 스티브 잡스의 나이는 몇 살 이었나요?\n",
      "    \n",
      "    Answer:\n",
      "    \n"
     ]
    }
   ],
   "source": [
    "prompt = FewShotPromptTemplate(\n",
    "    example_selector=example_selector,\n",
    "    example_prompt=example_prompt,\n",
    "    suffix=\"\"\"Question:\n",
    "    {question}\n",
    "    \n",
    "    Answer:\n",
    "    \"\"\",\n",
    "    input_variables=[\"question\"]\n",
    ")\n",
    "\n",
    "example_selector_prompt = prompt.format(question=question)\n",
    "\n",
    "print(example_selector_prompt)"
   ]
  },
  {
   "cell_type": "code",
   "execution_count": 11,
   "metadata": {},
   "outputs": [
    {
     "name": "stdout",
     "output_type": "stream",
     "text": [
      "이 질문에 추가 질문이 필요한가요: 예.\n",
      "추가 질문: 애플은 언제 설립되었나요?\n",
      "중간 답변: 애플은 1976년에 설립되었습니다.\n",
      "추가 질문: 스티브 잡스는 언제 태어났나요?\n",
      "중간 답변: 스티브 잡스는 1955년 2월 24일에 태어났습니다.\n",
      "추가 질문: 1976년에 스티브 잡스의 나이는 몇 살이었나요?\n",
      "중간 답변: 1976년에는 스티브 잡스가 21살이었습니다.\n",
      "최종 답변은: 21살\n"
     ]
    }
   ],
   "source": [
    "chain = prompt | llm | StrOutputParser()\n",
    "\n",
    "answer = chain.invoke(question)\n",
    "\n",
    "print(answer)"
   ]
  }
 ],
 "metadata": {
  "kernelspec": {
   "display_name": "langchain_env",
   "language": "python",
   "name": "python3"
  },
  "language_info": {
   "codemirror_mode": {
    "name": "ipython",
    "version": 3
   },
   "file_extension": ".py",
   "mimetype": "text/x-python",
   "name": "python",
   "nbconvert_exporter": "python",
   "pygments_lexer": "ipython3",
   "version": "3.11.10"
  }
 },
 "nbformat": 4,
 "nbformat_minor": 2
}
