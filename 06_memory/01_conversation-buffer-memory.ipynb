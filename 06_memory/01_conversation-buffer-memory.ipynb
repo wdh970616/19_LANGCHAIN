{
 "cells": [
  {
   "cell_type": "markdown",
   "metadata": {},
   "source": [
    "### ConversationBufferMemory\n",
    "* 메세지를 저장하고 다음 변수에 메세지를 추출할 수 있게 해준다.\n",
    "\n",
    "**save_ context(inputs, ouputs)메소드를 활용하여 대화기록을 저장**\n",
    "* inputs : 사용자의 입력\n",
    "* ouptuts : AI의 출력\n",
    "* 이 후 load_memory_variables 메소드를 사용하여 저장된 대화기록을 확인 가능"
   ]
  },
  {
   "cell_type": "code",
   "execution_count": 1,
   "metadata": {},
   "outputs": [
    {
     "name": "stderr",
     "output_type": "stream",
     "text": [
      "C:\\Users\\20116\\AppData\\Local\\Temp\\ipykernel_11580\\344328508.py:4: LangChainDeprecationWarning: Please see the migration guide at: https://python.langchain.com/docs/versions/migrating_memory/\n",
      "  memory = ConversationBufferMemory()\n"
     ]
    }
   ],
   "source": [
    "from langchain.memory import ConversationBufferMemory\n",
    "\n",
    "# 메모리 객체\n",
    "memory = ConversationBufferMemory()\n",
    "\n",
    "memory.save_context(\n",
    "    inputs={\"human\": \"안녕하세요. 제주도 여행을 계획 중 인데 추천 해주실만한 곳이 있을까요?\"},\n",
    "    outputs={\"ai\": \"안녕하세요! 제주도 여행을 도와드리게 되어 기쁩니다. 언제 방문하실 예정인가요?\"}\n",
    ")"
   ]
  },
  {
   "cell_type": "code",
   "execution_count": 2,
   "metadata": {},
   "outputs": [
    {
     "data": {
      "text/plain": [
       "ConversationBufferMemory(chat_memory=InMemoryChatMessageHistory(messages=[HumanMessage(content='안녕하세요. 제주도 여행을 계획 중 인데 추천 해주실만한 곳이 있을까요?', additional_kwargs={}, response_metadata={}), AIMessage(content='안녕하세요! 제주도 여행을 도와드리게 되어 기쁩니다. 언제 방문하실 예정인가요?', additional_kwargs={}, response_metadata={})]))"
      ]
     },
     "execution_count": 2,
     "metadata": {},
     "output_type": "execute_result"
    }
   ],
   "source": [
    "memory"
   ]
  },
  {
   "cell_type": "code",
   "execution_count": 3,
   "metadata": {},
   "outputs": [
    {
     "name": "stdout",
     "output_type": "stream",
     "text": [
      "Human: 안녕하세요. 제주도 여행을 계획 중 인데 추천 해주실만한 곳이 있을까요?\n",
      "AI: 안녕하세요! 제주도 여행을 도와드리게 되어 기쁩니다. 언제 방문하실 예정인가요?\n"
     ]
    }
   ],
   "source": [
    "print(memory.load_memory_variables({})[\"history\"])"
   ]
  },
  {
   "cell_type": "code",
   "execution_count": 4,
   "metadata": {},
   "outputs": [],
   "source": [
    "memory.save_context(\n",
    "    inputs={\"human\": \"5월 초에 3박 4일로 방문할 예정입니다.\"},\n",
    "    outputs={\n",
    "        \"ai\": \"5월은 제주도의 봄을 만끽하기 좋은 시기입니다. 우도, 성산일출봉, 카페거리 등을 추천드립니다. 구체적인 일정을 함께 계획해볼까요?\"\n",
    "    },\n",
    ")\n",
    "memory.save_context(\n",
    "    inputs={\"human\": \"네, 일정 계획을 도와주시면 감사하겠습니다.\"},\n",
    "    outputs={\n",
    "        \"ai\": \"첫째 날은 제주 공항에서 렌터카를 픽업하신 후, 함덕 해수욕장과 카페거리를 둘러보시는 것을 추천드립니다. 둘째 날은 성산일출봉과 우도 투어, 셋째 날은 한라산 등반이나 올레길 산책은 어떠신가요?\"\n",
    "    },\n",
    ")"
   ]
  },
  {
   "cell_type": "code",
   "execution_count": 5,
   "metadata": {},
   "outputs": [
    {
     "name": "stdout",
     "output_type": "stream",
     "text": [
      "Human: 안녕하세요. 제주도 여행을 계획 중 인데 추천 해주실만한 곳이 있을까요?\n",
      "AI: 안녕하세요! 제주도 여행을 도와드리게 되어 기쁩니다. 언제 방문하실 예정인가요?\n",
      "Human: 5월 초에 3박 4일로 방문할 예정입니다.\n",
      "AI: 5월은 제주도의 봄을 만끽하기 좋은 시기입니다. 우도, 성산일출봉, 카페거리 등을 추천드립니다. 구체적인 일정을 함께 계획해볼까요?\n",
      "Human: 네, 일정 계획을 도와주시면 감사하겠습니다.\n",
      "AI: 첫째 날은 제주 공항에서 렌터카를 픽업하신 후, 함덕 해수욕장과 카페거리를 둘러보시는 것을 추천드립니다. 둘째 날은 성산일출봉과 우도 투어, 셋째 날은 한라산 등반이나 올레길 산책은 어떠신가요?\n"
     ]
    }
   ],
   "source": [
    "print(memory.load_memory_variables({})[\"history\"])"
   ]
  },
  {
   "cell_type": "markdown",
   "metadata": {},
   "source": [
    "* return_message=True\n",
    "    * 출력 시 HumanMessage와 AIMessage 객체를 반환해준다."
   ]
  },
  {
   "cell_type": "code",
   "execution_count": 6,
   "metadata": {},
   "outputs": [],
   "source": [
    "memory = ConversationBufferMemory(return_messages=True)\n",
    "\n",
    "memory.save_context(\n",
    "    inputs={\"human\": \"안녕하세요. 제주도 여행을 계획 중 인데 추천 해주실만한 곳이 있을까요?\"},\n",
    "    outputs={\"ai\": \"안녕하세요! 제주도 여행을 도와드리게 되어 기쁩니다. 언제 방문하실 예정인가요?\"}\n",
    ")\n",
    "\n",
    "memory.save_context(\n",
    "    inputs={\"human\": \"5월 초에 3박 4일로 방문할 예정입니다.\"},\n",
    "    outputs={\"ai\": \"5월은 제주도의 봄을 만끽하기 좋은 시기입니다. 우도, 성산일출봉, 카페거리 등을 추천드립니다. 구체적인 일정을 함께 계획해볼까요?\"}\n",
    ")\n",
    "memory.save_context(\n",
    "    inputs={\"human\": \"네, 일정 계획을 도와주시면 감사하겠습니다.\"},\n",
    "    outputs={\"ai\": \"첫째 날은 제주 공항에서 렌터카를 픽업하신 후, 함덕 해수욕장과 카페거리를 둘러보시는 것을 추천드립니다. 둘째 날은 성산일출봉과 우도 투어, 셋째 날은 한라산 등반이나 올레길 산책은 어떠신가요?\"}\n",
    ")"
   ]
  },
  {
   "cell_type": "code",
   "execution_count": 7,
   "metadata": {},
   "outputs": [
    {
     "name": "stdout",
     "output_type": "stream",
     "text": [
      "[HumanMessage(content='안녕하세요. 제주도 여행을 계획 중 인데 추천 해주실만한 곳이 있을까요?', additional_kwargs={}, response_metadata={}), AIMessage(content='안녕하세요! 제주도 여행을 도와드리게 되어 기쁩니다. 언제 방문하실 예정인가요?', additional_kwargs={}, response_metadata={}), HumanMessage(content='5월 초에 3박 4일로 방문할 예정입니다.', additional_kwargs={}, response_metadata={}), AIMessage(content='5월은 제주도의 봄을 만끽하기 좋은 시기입니다. 우도, 성산일출봉, 카페거리 등을 추천드립니다. 구체적인 일정을 함께 계획해볼까요?', additional_kwargs={}, response_metadata={}), HumanMessage(content='네, 일정 계획을 도와주시면 감사하겠습니다.', additional_kwargs={}, response_metadata={}), AIMessage(content='첫째 날은 제주 공항에서 렌터카를 픽업하신 후, 함덕 해수욕장과 카페거리를 둘러보시는 것을 추천드립니다. 둘째 날은 성산일출봉과 우도 투어, 셋째 날은 한라산 등반이나 올레길 산책은 어떠신가요?', additional_kwargs={}, response_metadata={})]\n"
     ]
    }
   ],
   "source": [
    "print(memory.load_memory_variables({})[\"history\"])"
   ]
  },
  {
   "cell_type": "markdown",
   "metadata": {},
   "source": [
    "* 체인에 연결"
   ]
  },
  {
   "cell_type": "code",
   "execution_count": 8,
   "metadata": {},
   "outputs": [
    {
     "data": {
      "text/plain": [
       "True"
      ]
     },
     "execution_count": 8,
     "metadata": {},
     "output_type": "execute_result"
    }
   ],
   "source": [
    "from dotenv import load_dotenv\n",
    "\n",
    "load_dotenv()"
   ]
  },
  {
   "cell_type": "code",
   "execution_count": 9,
   "metadata": {},
   "outputs": [
    {
     "name": "stderr",
     "output_type": "stream",
     "text": [
      "C:\\Users\\20116\\AppData\\Local\\Temp\\ipykernel_11580\\1767701400.py:9: LangChainDeprecationWarning: The class `ConversationChain` was deprecated in LangChain 0.2.7 and will be removed in 1.0. Use :meth:`~RunnableWithMessageHistory: https://python.langchain.com/v0.2/api_reference/core/runnables/langchain_core.runnables.history.RunnableWithMessageHistory.html` instead.\n",
      "  conversation = ConversationChain(\n"
     ]
    }
   ],
   "source": [
    "from langchain_openai import ChatOpenAI\n",
    "from langchain.chains import ConversationChain\n",
    "\n",
    "llm = ChatOpenAI(\n",
    "    temperature=0,\n",
    "    model=\"gpt-4o\"\n",
    ")\n",
    "\n",
    "conversation = ConversationChain(\n",
    "    llm=llm,\n",
    "    memory=ConversationBufferMemory()\n",
    ")"
   ]
  },
  {
   "cell_type": "code",
   "execution_count": 10,
   "metadata": {},
   "outputs": [
    {
     "name": "stdout",
     "output_type": "stream",
     "text": [
      "안녕하세요! 피자 주문을 고려 중이시군요. 다양한 종류의 피자가 있어서 선택의 폭이 넓습니다. 일반적으로 인기 있는 피자 종류를 몇 가지 소개해드릴게요.\n",
      "\n",
      "1. **마르게리타 피자**: 신선한 토마토 소스, 모짜렐라 치즈, 바질 잎이 올라간 클래식한 피자입니다. 간단하면서도 깊은 맛을 자랑하죠.\n",
      "\n",
      "2. **페퍼로니 피자**: 매콤한 페퍼로니와 녹아내리는 치즈가 조화를 이루는 피자로, 많은 사람들이 좋아하는 메뉴입니다.\n",
      "\n",
      "3. **하와이안 피자**: 햄과 파인애플이 올라가 달콤하고 짭짤한 맛의 조화를 이루는 피자입니다. 호불호가 갈리지만, 좋아하는 사람들은 정말 좋아하죠.\n",
      "\n",
      "4. **고르곤졸라 피자**: 고르곤졸라 치즈의 독특한 풍미와 꿀이 어우러져 달콤하면서도 짭짤한 맛을 즐길 수 있는 피자입니다.\n",
      "\n",
      "5. **베지터리안 피자**: 다양한 신선한 채소들이 올라가 건강하고 가벼운 맛을 즐길 수 있는 피자입니다.\n",
      "\n",
      "이 외에도 각 피자 가게마다 특색 있는 메뉴가 있을 수 있으니, 주문하시려는 가게의 메뉴를 확인해보시면 좋을 것 같습니다. 어떤 피자가 가장 끌리시나요?\n"
     ]
    }
   ],
   "source": [
    "response = conversation.predict(\n",
    "    input=\"안녕하세요. 피자 한 판 주문하고 싶은데 어떤 피자가 있나요?\"\n",
    ")\n",
    "\n",
    "print(response)"
   ]
  },
  {
   "cell_type": "code",
   "execution_count": 11,
   "metadata": {},
   "outputs": [
    {
     "name": "stdout",
     "output_type": "stream",
     "text": [
      "물론입니다! 이전 답변들을 마크다운 형식으로 요약해드릴게요.\n",
      "\n",
      "---\n",
      "\n",
      "### 피자 종류 소개\n",
      "\n",
      "1. **마르게리타 피자**\n",
      "   - 신선한 토마토 소스, 모짜렐라 치즈, 바질 잎\n",
      "   - 클래식하고 깊은 맛\n",
      "\n",
      "2. **페퍼로니 피자**\n",
      "   - 매콤한 페퍼로니, 녹아내리는 치즈\n",
      "   - 많은 사람들이 좋아하는 메뉴\n",
      "\n",
      "3. **하와이안 피자**\n",
      "   - 햄과 파인애플\n",
      "   - 달콤하고 짭짤한 맛의 조화\n",
      "   - 호불호가 갈림\n",
      "\n",
      "4. **고르곤졸라 피자**\n",
      "   - 고르곤졸라 치즈, 꿀\n",
      "   - 달콤하면서도 짭짤한 맛\n",
      "\n",
      "5. **베지터리안 피자**\n",
      "   - 다양한 신선한 채소\n",
      "   - 건강하고 가벼운 맛\n",
      "\n",
      "---\n",
      "\n",
      "각 피자 가게마다 특색 있는 메뉴가 있을 수 있으니, 주문하시려는 가게의 메뉴를 확인해보세요. 어떤 피자가 가장 끌리시나요?\n"
     ]
    }
   ],
   "source": [
    "response = conversation.predict(\n",
    "    input=\"이전 답변들을 마크다운 형식으로 요약, 정리 해주세요.\"\n",
    ")\n",
    "\n",
    "print(response)"
   ]
  }
 ],
 "metadata": {
  "kernelspec": {
   "display_name": "langchain_env",
   "language": "python",
   "name": "python3"
  },
  "language_info": {
   "codemirror_mode": {
    "name": "ipython",
    "version": 3
   },
   "file_extension": ".py",
   "mimetype": "text/x-python",
   "name": "python",
   "nbconvert_exporter": "python",
   "pygments_lexer": "ipython3",
   "version": "3.11.10"
  }
 },
 "nbformat": 4,
 "nbformat_minor": 2
}
