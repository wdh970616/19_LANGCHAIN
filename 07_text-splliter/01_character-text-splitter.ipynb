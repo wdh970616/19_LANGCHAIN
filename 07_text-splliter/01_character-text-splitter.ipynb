{
 "cells": [
  {
   "cell_type": "markdown",
   "metadata": {},
   "source": [
    "### CharacterTextSplitter\n",
    "* 가장 기본적인 방법\n",
    "* 기본적으로 \"\\n\\n\"을 기준으로 문자단위로 텍스트를 분할하고 청크의 크기를 문자 수로 측정\n",
    "\n",
    "**인자**\n",
    "* separator : 분할할 기준을 설정. 기본값을 \"\\n\\n\"\n",
    "* chunk_size : 각 청크의 최대 크기를 설정\n",
    "* chunk_overlap : 인접한 청크 간 중복을 허용할 크기\n",
    "* length_function : 텍스트의 길이를 계산하는 함수 지정(len)"
   ]
  },
  {
   "cell_type": "code",
   "execution_count": 5,
   "metadata": {},
   "outputs": [],
   "source": [
    "from langchain_text_splitters import CharacterTextSplitter\n",
    "\n",
    "text_splitter = CharacterTextSplitter(\n",
    "    separator=\"\\n\\n\",\n",
    "    chunk_size=200,\n",
    "    chunk_overlap=0,\n",
    "    length_function=len # 단어수, 특정문자, 패턴, 언어별 특성을 반영할 수 있음\n",
    ")"
   ]
  },
  {
   "cell_type": "code",
   "execution_count": 3,
   "metadata": {},
   "outputs": [],
   "source": [
    "with open(\"./data/appendix-keywords.txt\") as f:\n",
    "    file = f.read()"
   ]
  },
  {
   "cell_type": "code",
   "execution_count": 4,
   "metadata": {},
   "outputs": [
    {
     "name": "stdout",
     "output_type": "stream",
     "text": [
      "Semantic Search\n",
      "\n",
      "정의: 의미론적 검색은 사용자의 질의를 단순한 키워드 매칭을 넘어서 그 의미를 파악하여 관련된 결과를 반환하는 검색 방식입니다.\n",
      "예시: 사용자가 \"태양계 행성\"이라고 검색하면, \"목성\", \"화성\" 등과 같이 관련된 행성에 대한 정보를 반환합니다.\n",
      "연관키워드: 자연어 처리, 검색 알고리즘, 데이터 마이닝\n",
      "\n",
      "Embedding\n",
      "\n",
      "정의: 임베딩은 단어나 문장 같은 텍스트 데이터를 저차원의 연속적인 벡터로 변환하는 과정입니다. 이를 통해 컴퓨터가 텍스트를 이해하고 처리할 수 있게 합니다.\n",
      "예시: \"사과\"라는 단어를 [0.65, -0.23, 0.17]과 같은 벡터로 표현합니다.\n",
      "연관키워드: 자연어 처리, 벡터화, 딥러닝\n",
      "\n",
      "Token\n",
      "\n",
      "정의: 토큰은 텍스트를 더 작은 단위로 분할하는 것을 의미합니다. 이는 일반적으로 단어, 문장, 또는 구절일 수 있습니다.\n",
      "예시: 문장 \"나는 학교에 간다\"를 \"나는\", \"학교에\", \"간다\"로 분할합니다.\n",
      "연관키워드: 토큰화, 자연어\n"
     ]
    }
   ],
   "source": [
    "print(file[:500])"
   ]
  },
  {
   "cell_type": "code",
   "execution_count": 13,
   "metadata": {},
   "outputs": [
    {
     "name": "stderr",
     "output_type": "stream",
     "text": [
      "Created a chunk of size 201, which is longer than the specified 200\n",
      "Created a chunk of size 202, which is longer than the specified 200\n",
      "Created a chunk of size 203, which is longer than the specified 200\n",
      "Created a chunk of size 201, which is longer than the specified 200\n",
      "Created a chunk of size 205, which is longer than the specified 200\n"
     ]
    },
    {
     "name": "stdout",
     "output_type": "stream",
     "text": [
      "197\n",
      "page_content='Semantic Search\n",
      "\n",
      "정의: 의미론적 검색은 사용자의 질의를 단순한 키워드 매칭을 넘어서 그 의미를 파악하여 관련된 결과를 반환하는 검색 방식입니다.\n",
      "예시: 사용자가 \"태양계 행성\"이라고 검색하면, \"목성\", \"화성\" 등과 같이 관련된 행성에 대한 정보를 반환합니다.\n",
      "연관키워드: 자연어 처리, 검색 알고리즘, 데이터 마이닝\n",
      "\n",
      "Embedding'\n"
     ]
    }
   ],
   "source": [
    "texts = text_splitter.create_documents([file])\n",
    "\n",
    "print(len(texts[0].page_content))\n",
    "\n",
    "print(texts[0])"
   ]
  },
  {
   "cell_type": "code",
   "execution_count": 11,
   "metadata": {},
   "outputs": [],
   "source": [
    "from langchain_community.document_loaders import PyPDFLoader\n",
    "\n",
    "loader = PyPDFLoader(\"./data/snow-white.pdf\")\n",
    "\n",
    "document = loader.load()"
   ]
  },
  {
   "cell_type": "code",
   "execution_count": 12,
   "metadata": {},
   "outputs": [
    {
     "name": "stdout",
     "output_type": "stream",
     "text": [
      "[Document(metadata={'source': './data/snow-white.pdf', 'page': 0}, page_content='백설공주\\n옛날 어느 왕국에 공주님이 태어났어요.\\n“어쩜 이렇게 어여쁠까? 살결이 눈처럼 하얗구나. 백\\n설공주라고 불러야겠다.”\\n왕과 왕비는 갓 태어난 딸을 보며 기뻐했어요.\\n하지만 기쁨도 잠시, 왕비는 곧 세상을 떠나고 말았어\\n요.\\n'), Document(metadata={'source': './data/snow-white.pdf', 'page': 1}, page_content='왕은 아름다운 새 왕비를 맞았어요.\\n그런데 새 왕비는 자기보다 아름다운 사람을 두고 보\\n지 못했어요.\\n왕비는 진실만을 말하는 요술 거울에게 늘 이렇게 물\\n었어요.\\n“거울아, 거울아. 이 세상에서 누가 가장 아름답니?”\\n“이 세상에서 가장 아름다운 사람은 왕비님입니다.”\\n그 대답을 들어야만 차가운 왕비 얼굴에 미소가 번졌\\n지요.\\n시간이 흘러 백설공주는 어여쁜 소녀가 되었어요.\\n어느 날, 왕비는 요술 거울에게 물었지요.\\n“거울아, 거울아. 이 세상에서 누가 가장 아름답니?”\\n“왕비님도 아름답지만 백설공주가 더 아름답습니다.”\\n화가 난 왕비는 사냥꾼을 불렀어요.\\n왕비는 사냥꾼에게 백설공주를 죽이라고 명령했어요.\\n하지만 사냥꾼은 차마 그럴 수 없었어요.\\n“가여운 공주님, 왕비님이 찾지 못하도록 멀리멀리 떠\\n나세요.”\\n백설공주는 울면서 숲으로 도망쳤어요.\\n'), Document(metadata={'source': './data/snow-white.pdf', 'page': 2}, page_content='숲속을 헤매던 백설공주는 외딴 오두막에 이르렀어요.\\n들여다보니 오두막은 비어 있었어요.\\n“아무도 없네. 좀 쉬어 가도 될까? 어? 신기하다! 모든 게 작아. \\n어어? 이상하다! 모든 게 일곱. 의자도 일곱, 접시도 일곱. 어머, \\n침대도 일곱 개네.”\\n도망치느라 치진 백설공주는 식탁 위에 있던 빵을 먹고 나서\\n일곱 번째 침대에 쓰러져 잠들었어요.\\n밤이 되자 오두막 주인인 일곱 난쟁이가 돌아왔어요.\\n난쟁이들은 집 안이 어질러진 것을 보고 깜짝 놀랐지요.\\n일곱째 난쟁이가 큰 소리로 외쳤어요.\\n“누가 내 침대에서 자고 있어!”\\n북적이는 소리에 잠이 깬 백설공주는 왕비를 피해 도망쳤다고\\n이야기했어요.\\n“불쌍한 공주님, 우리와 함께 살아요. 조심조심 또 조심. 낯선\\n사람에게는 문을 열어 주지 마세요.”\\n며칠이 지나 왕비는 다시 요술 거울에게 누가 가장 아름다운\\n지 물었어요.\\n“왕비님도 아름답지만 백설공주님이 천배는 더 아름답습니다.”\\n“사냥꾼이 날 속였구나. 내가 직접 해치우겠어!”\\n'), Document(metadata={'source': './data/snow-white.pdf', 'page': 3}, page_content='왕비는 먹음직스럽게 생긴 사과를 골라 독을 발랐어요.\\n그리고 과일 장수로 변장했지요.\\n왕비는 산을 넘고 또 넘어 일곱 난쟁이의 오두막에 도착했어요.\\n“새콤달콤 맛있는 사과가 있어요. 아가씨의 붉은 입술처럼 새빨\\n간 사과랍니다. 잠깐 문을 열어 보세요.”\\n백설공주는 고개를 저었어요.\\n“난쟁이들이 문을 열어 주지 말라고 했어요.”\\n백설공주가 거절하자, 왕비는 창문 틈새로 사과를 쑥 내밀었어\\n요.\\n“그럼, 맛이라도 봐요. 정말 맛있으니까. 둘이 먹다 하나가 죽어\\n도 모를걸요.”\\n“탐스러운 사과네. 맛있어 보여. 한입만 아삭 깨물어 볼까?”\\n사과를 베어 문 순간, 백설공주는 온몸에 독이 퍼져 정신을 잃고\\n쓰러졌어요.\\n“호호호. 이제 내가 세상에서 가장 아름답겠지?”\\n왕비는 백설공주를 버려둔 채 자리를 떠났어요.\\n'), Document(metadata={'source': './data/snow-white.pdf', 'page': 4}, page_content='저녁이 되자, 일곱 난쟁이가 돌아왔어요.\\n난쟁이들은 쓰러진 백설공주를 보고 엉엉 울었어요.\\n백설공주는 깊은 잠에 빠진 것처럼 보였지요.\\n“백설공주님, 못된 왕비의 꾐에 넘어갔군요.”\\n“여전히 아름다운 우리 공주님을 캄캄한 땅속에 묻을 순 없어.”\\n“오래오래 볼 수 있게 유리 관에 모시자.”\\n어느 날, 한 왕자가 숲을 지나다가 유리관을 보았어요.\\n“누구지? 이 아름다운 여인은?”\\n“백설공주랍니다.”\\n왕자는 백설공주에게 반해 유리관을 달라고 부탁했어요.\\n일곱 난쟁이는 백설공주를 잘 지킨다는 약속을 받고 유리관을\\n내주었지요.\\n그런데 신하들이 유리관을 옮기다 돌부리에 툭! 백설공주 목\\n에서 사과 조각이 툭! \\n“우아, 공주님이 살아났어!”\\n'), Document(metadata={'source': './data/snow-white.pdf', 'page': 5}, page_content='왕자는 깨어난 백설공주를 보고 기뻐했어요.\\n“공주님, 나는 이웃 나라 왕자입니다.”\\n“왕자님이 나를 다시 살려 주셨군요.”\\n“나와 결혼해 주시겠어요?”\\n“네, 좋아요!”\\n두 사람은 일곱 난쟁이와 함께 오래오래 행복하게 살\\n았답니다.\\n')]\n"
     ]
    }
   ],
   "source": [
    "print(document)"
   ]
  },
  {
   "cell_type": "code",
   "execution_count": 16,
   "metadata": {},
   "outputs": [
    {
     "name": "stdout",
     "output_type": "stream",
     "text": [
      "129\n",
      "page_content='백설공주\n",
      "옛날 어느 왕국에 공주님이 태어났어요.\n",
      "“어쩜 이렇게 어여쁠까? 살결이 눈처럼 하얗구나. 백\n",
      "설공주라고 불러야겠다.”\n",
      "왕과 왕비는 갓 태어난 딸을 보며 기뻐했어요.\n",
      "하지만 기쁨도 잠시, 왕비는 곧 세상을 떠나고 말았어\n",
      "요.'\n"
     ]
    }
   ],
   "source": [
    "# 텍스트를 청크로 분할\n",
    "texts = text_splitter.create_documents([doc.page_content for doc in document])\n",
    "\n",
    "print(len(texts[0].page_content)) # 분할된 문서 개수\n",
    "\n",
    "print(texts[0])"
   ]
  }
 ],
 "metadata": {
  "kernelspec": {
   "display_name": "langchain_env",
   "language": "python",
   "name": "python3"
  },
  "language_info": {
   "codemirror_mode": {
    "name": "ipython",
    "version": 3
   },
   "file_extension": ".py",
   "mimetype": "text/x-python",
   "name": "python",
   "nbconvert_exporter": "python",
   "pygments_lexer": "ipython3",
   "version": "3.11.10"
  }
 },
 "nbformat": 4,
 "nbformat_minor": 2
}
